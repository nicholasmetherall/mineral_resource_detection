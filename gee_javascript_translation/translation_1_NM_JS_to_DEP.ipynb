{
 "cells": [
  {
   "cell_type": "code",
   "execution_count": 2,
   "id": "297f8e02-0011-4da5-a098-15e00cf688d6",
   "metadata": {
    "tags": []
   },
   "outputs": [],
   "source": [
    "# Import dependencies\n",
    "\n",
    "import os\n",
    "import sys\n",
    "sys.path.insert(0, '..')\n",
    "\n",
    "import pandas as pd\n",
    "import geopandas as gpd\n",
    "import numpy as np\n",
    "import rioxarray\n",
    "import xarray as xr\n",
    "from ipyleaflet import Map, LayersControl, basemaps\n",
    "\n",
    "import depal as dep\n",
    "from model import add_image_values, get_model_prediction, get_overlay\n",
    "\n",
    "import warnings\n",
    "warnings.filterwarnings('ignore')"
   ]
  },
  {
   "cell_type": "code",
   "execution_count": null,
   "id": "ae810b04-3234-4f4a-8220-d1f2cdf84a6c",
   "metadata": {},
   "outputs": [],
   "source": [
    "# datacube\n",
    "\n",
    "# from datacube.utils.dask import start_local_dask\n",
    "# from dep_tools.loaders import Sentinel2OdcLoader\n",
    "# from dep_tools.namers import LocalPath\n",
    "# from dep_tools.writers import LocalDsWriter\n",
    "\n",
    "# from src.run_task import GeoMADSentinel2Processor, get_grid"
   ]
  },
  {
   "cell_type": "code",
   "execution_count": 3,
   "id": "f173cdfb-ee00-4cf0-ab0f-38e52109eee0",
   "metadata": {
    "tags": []
   },
   "outputs": [
    {
     "name": "stdout",
     "output_type": "stream",
     "text": [
      "Initiating DEPAL...\n",
      "<Client: 'tcp://127.0.0.1:39373' processes=4 threads=8, memory=62.79 GiB>\n",
      "/user/nicholasm@spc.int/proxy/8787/status\n"
     ]
    }
   ],
   "source": [
    "dep.init()"
   ]
  },
  {
   "cell_type": "markdown",
   "id": "91ac05f4-abff-44d9-b276-d20ce2da9b65",
   "metadata": {},
   "source": [
    "#### 1) Import training image.tif - read in .tif with the year as the name of the variable\n",
    "\n",
    "var year ='2019';  \n",
    "print('Year: '+year);"
   ]
  },
  {
   "cell_type": "code",
   "execution_count": null,
   "id": "905f03ec-e02a-41a5-a447-55ddb22cd9f9",
   "metadata": {
    "tags": []
   },
   "outputs": [],
   "source": [
    "# Define a training image.tif as a year then read in .tif with the year as the name of the variable (eg. 2019)\n",
    "year = 2019\n",
    "\n",
    "training_data = gpd.read_file(\"lulc_combined.geojson\")\n",
    "\n",
    "\n",
    "# Print the year of analysis\n",
    "print(\"Year:\", year)"
   ]
  },
  {
   "cell_type": "markdown",
   "id": "ff493362-bd2e-47db-8de2-df102cfa23f3",
   "metadata": {},
   "source": [
    "#### 2) Add training data \n",
    "Map.addLayer(table4)  \n",
    "var roi = VitiLevu;  // Assuming VitiLevu is defined somewhere  \n",
    "//var year = '2022'  \n",
    "Map.addLayer(roi, {}, 'ROI');  \n"
   ]
  },
  {
   "cell_type": "code",
   "execution_count": 6,
   "id": "465b4ede-454d-4a43-813c-aa82ec6f7008",
   "metadata": {},
   "outputs": [],
   "source": [
    "# 2) Add training data \n",
    "\n",
    "training_data = gpd.read_file(\"training_data.geojson\")\n",
    "\n"
   ]
  },
  {
   "cell_type": "code",
   "execution_count": null,
   "id": "b73228a5-252f-4fd6-9865-0d68c2741018",
   "metadata": {},
   "outputs": [],
   "source": [
    "# Define area of interest\n",
    "aoi = dep.get_country_boundary(\"Fiji\")\n",
    "\n",
    "# Define training image\n",
    "training_image = dep.get_landcover_mosaic(aoi, year, resolution=10, coastal_clip=False)\n"
   ]
  },
  {
   "cell_type": "markdown",
   "id": "15b0e8c8-e3b3-4fb8-bb73-64d602dfb2ed",
   "metadata": {},
   "source": [
    "#### 3) Additional data preprocessing\n",
    "\n",
    "\n",
    "Map.addLayer(buildings)  \n",
    "var place = 'VitiLevu';  \n",
    "var toClassify = image12;  // Assuming image2 is defined somewhere  \n",
    "var ndviThreshold = 0.3;  \n",
    "var mndwiThreshold = 0.19  \n",
    "var ndviMask = toClassify.select('NDVI').lte(ndviThreshold)  \n",
    "var mndwiMask = toClassify.select('MNDWI').lte(mndwiThreshold)  "
   ]
  },
  {
   "cell_type": "code",
   "execution_count": 7,
   "id": "7dc45343-9e3d-4a47-970c-6d2b5d6b9347",
   "metadata": {
    "tags": []
   },
   "outputs": [],
   "source": [
    "# ML Component\n",
    "\n",
    "from sklearn.ensemble import GradientBoostingClassifier, RandomForestClassifier, HistGradientBoostingClassifier\n",
    "from sklearn.model_selection import cross_val_score, cross_val_predict\n",
    "\n",
    "model = RandomForestClassifier(max_depth=4, class_weight=\"balanced\")\n",
    "#model = GradientBoostingClassifier()\n",
    "#model = HistGradientBoostingClassifier() #For coastal clipped mosaic\n",
    "\n",
    "# Convert the dataframe data to numpy arrays\n",
    "y = d.LULC_code.to_numpy()\n",
    "bands = [\"blue\", \"green\", \"red\", \"rededge\", \"nir\"]\n",
    "X = d.loc[:, bands].to_numpy()\n",
    "\n",
    "# A coarse way to assess model fit, this returns a list of loss metric values \n",
    "# (particular metric depends on classifier) for a 10-fold cross validation. \n",
    "# Alternatively you could split into train and test (and validation) sets, \n",
    "#but for this few number of points this may be the best approach.\n",
    "cv = cross_val_score(model, X, y, cv=10)\n",
    "cv.mean()"
   ]
  },
  {
   "cell_type": "code",
   "execution_count": null,
   "id": "1aa626ea-3c12-453a-acb7-fe35455046ec",
   "metadata": {},
   "outputs": [],
   "source": [
    "# Input from Sachin on NDVI masking of 0.3\n",
    "\n",
    "masked = ndvi.where(gmw.squeeze())\n",
    "# mangroves = xr.where(masked > 0.4, 1, np.nan)\n",
    "# regular_mangroves = mangroves.where(masked <= 0.7)\n",
    "# closed_mangroves = mangroves.where(masked > 0.7)\n",
    " \n",
    "nvdi (dataarray) > 0.3"
   ]
  },
  {
   "cell_type": "code",
   "execution_count": 11,
   "id": "afe1c2bc-ba55-4767-877f-0540bb33fe01",
   "metadata": {},
   "outputs": [],
   "source": [
    "# Replicated for MNDWI\n",
    "\n",
    "# masked = mndwi.where(gmw.squeeze())\n",
    "\n",
    " \n",
    "# mndwi (dataarray) > 0.19\n"
   ]
  },
  {
   "cell_type": "markdown",
   "id": "f8a3b339-7658-43d7-9deb-22e398e5d6ff",
   "metadata": {},
   "source": [
    "// Assuming 'yourFeatureCollection' is your original FeatureCollection that you want to modify var yourFeatureCollection; // Initialize this with your actual FeatureCollection\n",
    "\n",
    "// Update the 'presence' property of all features to 0 var updatedFeatureCollection = NonExtraction.map(setPresenceToZero);\n",
    "\n",
    "// Assuming 'table' is your original FeatureCollection var table; // Initialize this with your actual FeatureCollection\n",
    "\n",
    "// Merge the updatedFeatureCollection with the original 'table' var mergedFeatureCollection = table.merge(updatedFeatureCollection).merge(Extraction);\n",
    "\n",
    "// Now, 'mergedFeatureCollection' contains features from both 'table' and 'updatedFeatureCollection'\n",
    "\n",
    "var bands = NDmedian.bandNames();\n",
    "\n",
    "// Sample images using training samples var samples = NDmedian.sampleRegions({ collection: mergedFeatureCollection, // Assuming table is defined somewhere properties: ['presence'], scale: 10 }).randomColumn('random');\n",
    "\n",
    "var split = 0.80; var training = samples.filter(ee.Filter.lt('random', split)); var testing = samples.filter(ee.Filter.gte('random', split));\n",
    "\n",
    "// Initialize Maxent classifier parameters var maxentParams = { outputFormat: 'cloglog', autoFeature: true, betaMultiplier: 1, extrapolate: true, doClamp: true, writeClampGrid: true };\n",
    "\n",
    "// Initialize and train the classifier // ... (the rest of your code remains unchanged)\n",
    "\n",
    "// Initialize and train the classifier /* var classifier = ee.Classifier.amnhMaxent(maxentParams).train({ features: training,//.select([ 'VV','VH', 'NDMI','MNDWI','NDVI','SoilBarenessIndex', 'presence']), classProperty: 'presence', inputProperties: bands//[ 'VH','VV', 'NDVI','NDMI','MNDWI','SoilBarenessIndex']//bands }); */ var classifier = ee.Classifier.amnhMaxent({ outputFormat: 'cloglog', autoFeature: false, betaMultiplier: 1.2, extrapolate: false, doClamp: true, writeClampGrid: false, randomTestPoints: 10, seed: 42 }).train({ features: training.select([ 'R1', 'R2', 'R3', 'R4', 'R5', 'R7', 'R8', 'R9', 'R10', 'R11', 'R12', 'R13', 'R14', 'R15', 'R54', 'R35', 'R6', 'MNDWI','SAVI','EVI','NDMI', 'NDVI','SR', 'VV', 'VH','VV_1','VH_1','SoilBarenessIndex','presence']),//[ 'SAVI', 'EVI', 'MNDWI', 'NDMI', 'NDVI','VV','VH','VV_1', 'VH_1','presence']),//['R1', 'R2', 'R3', 'R4', 'R6', 'R7', 'R10', 'R11', 'R12', 'R13', 'R14', 'R15','VH','SoilBarenessIndex','SR', 'R54','R35','presence']), classProperty: 'presence', inputProperties: ['R1', 'R2', 'R3', 'R4', 'R5', 'R7', 'R8', 'R9', 'R10', 'R11', 'R12', 'R13', 'R14', 'R15', 'R54', 'R35', 'R6', 'MNDWI','SAVI','EVI', 'NDMI', 'NDVI','SR', 'VV', 'VH','VV_1','SoilBarenessIndex','VH_1']//[ 'SAVI', 'EVI','MNDWI', 'NDMI', 'NDVI','VV','VH','VV_1','VH_1']//['R1', 'R2', 'R3', 'R4', 'R6', 'R7', 'R10', 'R11', 'R12', 'R13', 'R14', 'R15','VH', 'SoilBarenessIndex','SR', 'R54', 'R35']//bands }); //'R1', 'R2', 'R3', 'R4', 'R5', 'R7', 'R8', 'R9', 'R10', 'R11', 'R12', 'R13', 'R14', 'R15', 'R54', 'R35', 'R6', //'R1', 'R2', 'R3', 'R4', 'R5', 'R7', 'R8', 'R9', 'R10', 'R11', 'R12', 'R13', 'R14', 'R15', 'R54', 'R35', 'R6', //'MNDWI','SAVI','EVI','EVI', 'NDMI','NDMI', 'NDVI','SR', 'SR','SoilBarenessIndex', var classified = toClassify.select(bands).classify(classifier);\n",
    "\n",
    "var threshold = 0; // Set your probability threshold here classified = classified//.focal_mean({kernel: ee.Kernel.square({radius: 1}), iterations: 2}); var buildingMask = classified.clip(buildings).mask().rename('building_mask'); var roadMask = classified.clip(roads).mask().rename('road_mask');\n",
    "\n",
    "// Invert the masks to keep pixels inside buildings and roads var invertedBuildingMask = buildingMask.not(); var invertedRoadMask = roadMask.not();\n",
    "\n",
    "// Combine the inverted masks using logical AND to mask out pixels inside buildings or roads var combinedMask = invertedBuildingMask.and(invertedRoadMask);\n",
    "\n",
    "// Update the river gravel image using the combined mask to mask out unwanted pixels var maskedClassified = classified.updateMask(combinedMask).select('probability').updateMask(classified.select('probability').gte(threshold));\n",
    "\n",
    "// Add the probability band of the masked classified image to the map.['blue', 'green', 'yellow', 'red'] Map.addLayer(maskedClassified, imageVisParam2, 'MaxEnt Classification Probability above Threshold');\n",
    "\n",
    "Export.image.toAsset({ image: maskedClassified, description: year[0]+'opt_sar'+place+'_clipped', assetId: place+'/NDSV/'+year[0]+'opt_sar'+place+'_clipped', region: roi,//.geometry().bounds(), scale: 10, maxPixels: 1e13 });"
   ]
  },
  {
   "cell_type": "code",
   "execution_count": null,
   "id": "752bb9b5-4123-4aa7-a086-bc56b6642607",
   "metadata": {},
   "outputs": [],
   "source": []
  },
  {
   "cell_type": "code",
   "execution_count": null,
   "id": "2a578ad3-d039-4b8e-b2fa-cd680479378d",
   "metadata": {},
   "outputs": [],
   "source": []
  },
  {
   "cell_type": "code",
   "execution_count": null,
   "id": "1634a1ae-2a56-416a-b6ed-ab1e092a4b38",
   "metadata": {},
   "outputs": [],
   "source": []
  },
  {
   "cell_type": "code",
   "execution_count": null,
   "id": "3eb669d2-b759-43cb-8c60-a774e779bab9",
   "metadata": {},
   "outputs": [],
   "source": []
  },
  {
   "cell_type": "code",
   "execution_count": null,
   "id": "ab91b4a4-8f9e-4396-b637-0c3b766e079e",
   "metadata": {},
   "outputs": [],
   "source": []
  },
  {
   "cell_type": "code",
   "execution_count": null,
   "id": "497606d1-968a-47d7-8f8a-6e99c4a9594e",
   "metadata": {},
   "outputs": [],
   "source": []
  },
  {
   "cell_type": "code",
   "execution_count": 9,
   "id": "a6ee46ab-cc8d-4f80-aceb-81f51d4c0b65",
   "metadata": {
    "tags": []
   },
   "outputs": [],
   "source": [
    "# var threshold = 0; // Set your probability threshold here classified = classified//.focal_mean({kernel: ee.Kernel.square({radius: 1}), iterations: 2}); var buildingMask = classified.clip(buildings).mask().rename('building_mask'); var roadMask = classified.clip(roads).mask().rename('road_mask');\n",
    "\n",
    "# // Invert the masks to keep pixels inside buildings and roads var invertedBuildingMask = buildingMask.not(); var invertedRoadMask = roadMask.not();\n",
    "\n",
    "# // Combine the inverted masks using logical AND to mask out pixels inside buildings or roads var combinedMask = invertedBuildingMask.and(invertedRoadMask);\n",
    "\n",
    "# // Update the river gravel image using the combined mask to mask out unwanted pixels var maskedClassified = classified.updateMask(combinedMask).select('probability').updateMask(classified.select('probability').gte(threshold));\n",
    "\n",
    "# // Add the probability band of the masked classified image to the map.['blue', 'green', 'yellow', 'red'] Map.addLayer(maskedClassified, imageVisParam2, 'MaxEnt Classification Probability above Threshold');\n",
    "\n",
    "# Export.image.toAsset({ image: maskedClassified, description: year[0]+'opt_sar'+place+'_clipped', assetId: place+'/NDSV/'+year[0]+'opt_sar'+place+'_clipped', region: roi,//.geometry().bounds(), scale: 10, maxPixels: 1e13 });\n"
   ]
  },
  {
   "cell_type": "code",
   "execution_count": null,
   "id": "b11c0e82-4463-4994-a94f-8219edf74310",
   "metadata": {},
   "outputs": [],
   "source": []
  }
 ],
 "metadata": {
  "kernelspec": {
   "display_name": "Python 3 (ipykernel)",
   "language": "python",
   "name": "python3"
  },
  "language_info": {
   "codemirror_mode": {
    "name": "ipython",
    "version": 3
   },
   "file_extension": ".py",
   "mimetype": "text/x-python",
   "name": "python",
   "nbconvert_exporter": "python",
   "pygments_lexer": "ipython3",
   "version": "3.11.4"
  }
 },
 "nbformat": 4,
 "nbformat_minor": 5
}
